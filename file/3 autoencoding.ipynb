{
 "cells": [
  {
   "cell_type": "code",
   "execution_count": 2,
   "id": "cdd0540a",
   "metadata": {},
   "outputs": [],
   "source": [
    "import os\n",
    "import argparse\n",
    "import json\n",
    "import numpy as np\n",
    "import torch\n",
    "import torch.nn as nn\n",
    "\n",
    "from sklearn.manifold import TSNE\n",
    "from sklearn.decomposition import PCA\n",
    "import matplotlib.pyplot as plt\n",
    "import umap                        \n",
    "\n",
    "from utils.util import find_max_epoch, print_size, training_loss, calc_diffusion_hyperparams\n",
    "from utils.util import get_mask_mnr, get_mask_bm, get_mask_rm\n",
    "\n",
    "from imputers.DiffWaveImputer import DiffWaveImputer\n",
    "from imputers.SSSDSAImputer import SSSDSAImputer\n",
    "from imputers.SSSDS4Imputer import SSSDS4Imputer\n"
   ]
  },
  {
   "cell_type": "code",
   "execution_count": 3,
   "id": "7868e9a6",
   "metadata": {},
   "outputs": [],
   "source": [
    "parser = argparse.ArgumentParser()\n",
    "parser.add_argument('-c', '--config', type=str, default='./config/config_SSSDS4-sp500.json')  \n",
    "# parser.add_argument('-c', '--config', type=str, default='./config/config_DiffWave-sp500.json') \n",
    "                                                                                                                                                                                                                               \n",
    "args = parser.parse_args(args=[])\n",
    "\n",
    "with open(args.config) as f:\n",
    "    data = f.read()\n",
    "\n",
    "config = json.loads(data)"
   ]
  },
  {
   "cell_type": "code",
   "execution_count": 4,
   "id": "1401d414",
   "metadata": {},
   "outputs": [],
   "source": [
    "train_config = config[\"train_config\"]  # training parameters\n",
    "\n",
    "global trainset_config\n",
    "trainset_config = config[\"trainset_config\"]  # to load trainset\n",
    "\n",
    "global diffusion_config\n",
    "diffusion_config = config[\"diffusion_config\"]  # basic hyperparameters\n",
    "\n",
    "global diffusion_hyperparams\n",
    "diffusion_hyperparams = calc_diffusion_hyperparams(\n",
    "                      **diffusion_config)  # dictionary of all diffusion hyperparameters\n",
    "\n",
    "global model_config\n",
    "\n",
    "if train_config['use_model'] == 0:\n",
    "    model_config = config['wavenet_config']\n",
    "elif train_config['use_model'] == 1:\n",
    "    model_config = config['sashimi_config']\n",
    "elif train_config['use_model'] == 2:\n",
    "    model_config = config['wavenet_config']\n",
    "       \n",
    "model_config['num_res_layers']=18           "
   ]
  },
  {
   "cell_type": "code",
   "execution_count": 5,
   "id": "f8baedfd",
   "metadata": {},
   "outputs": [],
   "source": [
    "output_directory = './results/mujoco/90'\n",
    "ckpt_iter = 'max'\n",
    "n_iters = 10000\n",
    "iters_per_ckpt = 100\n",
    "iters_per_logging = 100\n",
    "# batch_size_per_gpu              \n",
    "learning_rate = 0.0002\n",
    "use_model = 2\n",
    "only_generate_missing = 1       \n",
    "masking = 'rm'               \n",
    "missing_k = 20"
   ]
  },
  {
   "cell_type": "code",
   "execution_count": 6,
   "id": "02876e40",
   "metadata": {},
   "outputs": [
    {
     "name": "stdout",
     "output_type": "stream",
     "text": [
      "output directory ./results/mujoco/90\\T200_beta00.0001_betaT0.02\n",
      "SSSDS4Imputer Parameters: 7.547142M\n"
     ]
    }
   ],
   "source": [
    "local_path = \"T{}_beta0{}_betaT{}\".format(diffusion_config[\"T\"],\n",
    "                                              diffusion_config[\"beta_0\"],\n",
    "                                              diffusion_config[\"beta_T\"])\n",
    "\n",
    "output_directory = os.path.join(output_directory, local_path)\n",
    "if not os.path.isdir(output_directory):\n",
    "    os.makedirs(output_directory)\n",
    "    os.chmod(output_directory, 0o775)               \n",
    "print(\"output directory\", output_directory, flush=True)\n",
    "\n",
    "# map diffusion hyperparameters to gpu\n",
    "for key in diffusion_hyperparams:\n",
    "    if key != \"T\":\n",
    "        diffusion_hyperparams[key] = diffusion_hyperparams[key].cuda()\n",
    "        \n",
    "        \n",
    "# predefine model\n",
    "if use_model == 0:\n",
    "    net = DiffWaveImputer(**model_config).cuda()\n",
    "elif use_model == 1:\n",
    "    net = SSSDSAImputer(**model_config).cuda()\n",
    "elif use_model == 2:\n",
    "    net = SSSDS4Imputer(**model_config).cuda()    \n",
    "else:\n",
    "    print('Model chosen not available.')\n",
    "    \n",
    "print_size(net)\n",
    "optimizer = torch.optim.Adam(net.parameters(), lr=learning_rate)"
   ]
  },
  {
   "cell_type": "code",
   "execution_count": 7,
   "id": "cfa84e8a",
   "metadata": {},
   "outputs": [
    {
     "name": "stdout",
     "output_type": "stream",
     "text": [
      "(5775, 30, 6)\n"
     ]
    }
   ],
   "source": [
    "training_data = np.load(trainset_config['train_data_path'])\n",
    "np.random.shuffle(training_data)\n",
    "print(training_data.shape)"
   ]
  },
  {
   "cell_type": "code",
   "execution_count": 8,
   "id": "c743381e",
   "metadata": {},
   "outputs": [
    {
     "name": "stdout",
     "output_type": "stream",
     "text": [
      "55 (105, 30, 6)\n",
      "torch.Size([55, 105, 30, 6])\n"
     ]
    }
   ],
   "source": [
    "training_data = np.split(training_data, 55, 0)      \n",
    "print(len(training_data), training_data[0].shape)\n",
    "\n",
    "training_data = np.array(training_data)\n",
    "training_data = torch.from_numpy(training_data).float().cuda()\n",
    "print(training_data.shape)\n"
   ]
  },
  {
   "cell_type": "code",
   "execution_count": 9,
   "id": "702b7aa6",
   "metadata": {},
   "outputs": [],
   "source": [
    "missing_k = 20                    \n",
    "iters = 0\n",
    "loss_list=[]\n",
    "\n",
    "# while iters < n_iters + 1:\n",
    "\n",
    "#     for batch in training_data:             \n",
    "#         transposed_mask = get_mask_rm(batch[0], missing_k)     \n",
    "#         mask = transposed_mask.permute(1, 0)    \n",
    "#         mask = mask.repeat(batch.size()[0], 1, 1).float().cuda()  \n",
    "#         loss_mask = ~mask.bool()        \n",
    "#         batch = batch.permute(0, 2, 1)   \n",
    "#         optimizer.zero_grad()\n",
    "#         X = batch, batch, mask, loss_mask    \n",
    "#         loss = training_loss(net, nn.MSELoss(), X, diffusion_hyperparams,\n",
    "#                              only_generate_missing=only_generate_missing)\n",
    "\n",
    "#         loss.backward()\n",
    "#         optimizer.step()\n",
    "           \n",
    "#         if iters % iters_per_logging == 0:\n",
    "#                 print(\"iteration: {} \\tloss: {}\".format(iters, loss.item()))\n",
    "                \n",
    "#         loss_list.append(loss.item())\n",
    "        \n",
    "#         iters += 1\n",
    "  "
   ]
  },
  {
   "cell_type": "code",
   "execution_count": 35,
   "id": "d74fb4f3",
   "metadata": {},
   "outputs": [],
   "source": [
    "# torch.save( net.state_dict(),\"./sp500_S4_iter_10000.pth\" )"
   ]
  },
  {
   "cell_type": "code",
   "execution_count": 10,
   "id": "374614ba",
   "metadata": {},
   "outputs": [
    {
     "data": {
      "text/plain": [
       "<All keys matched successfully>"
      ]
     },
     "execution_count": 10,
     "metadata": {},
     "output_type": "execute_result"
    }
   ],
   "source": [
    "net = SSSDS4Imputer(**model_config).cuda()\n",
    "net.load_state_dict(torch.load( \"./sp500_S4_iter_10000.pth\"))\n",
    "\n",
    "# net.eval()"
   ]
  },
  {
   "cell_type": "code",
   "execution_count": null,
   "id": "09a2bba1",
   "metadata": {},
   "outputs": [],
   "source": []
  },
  {
   "cell_type": "code",
   "execution_count": 12,
   "id": "e1b1fcc5",
   "metadata": {},
   "outputs": [],
   "source": [
    "def std_normal(size):\n",
    "    \"\"\"\n",
    "    Generate the standard Gaussian variable of a certain size\n",
    "    \"\"\"\n",
    "    return torch.normal(0, 1, size=size).cuda()\n",
    "\n",
    "\n",
    "size=(5775,6,30)\n",
    "\n",
    "_dh = diffusion_hyperparams\n",
    "T, Alpha, Alpha_bar, Sigma = _dh[\"T\"], _dh[\"Alpha\"], _dh[\"Alpha_bar\"], _dh[\"Sigma\"]\n",
    "\n",
    "assert len(Alpha) == T\n",
    "assert len(Alpha_bar) == T\n",
    "assert len(Sigma) == T\n",
    "assert len(size) == 3\n",
    "\n",
    "# print(T, Alpha)\n",
    "\n",
    "x = std_normal(size)      # xT  \n",
    "cond = 1\n",
    "mask = 1\n"
   ]
  },
  {
   "cell_type": "code",
   "execution_count": null,
   "id": "1fed0847",
   "metadata": {},
   "outputs": [],
   "source": []
  },
  {
   "cell_type": "code",
   "execution_count": 13,
   "id": "a6adeed9",
   "metadata": {},
   "outputs": [
    {
     "name": "stdout",
     "output_type": "stream",
     "text": [
      "torch.Size([1, 6, 30])\n"
     ]
    }
   ],
   "source": [
    "import matplotlib.pyplot as plt\n",
    "\n",
    "training_data = np.load(trainset_config['train_data_path'])\n",
    "training_data = np.array(training_data)\n",
    "x = torch.from_numpy(training_data).float().cuda()\n",
    "x = x[30:31].permute(0,2,1)\n",
    "print(x.shape)\n"
   ]
  },
  {
   "cell_type": "code",
   "execution_count": 14,
   "id": "02efe1a6",
   "metadata": {},
   "outputs": [],
   "source": [
    "inverted_x = x\n",
    "\n",
    "with torch.no_grad():        \n",
    "    for t in range(0, T-1, 1):                      \n",
    "        diffusion_steps = (t * torch.ones((1, 1))).cuda()          \n",
    "        epsilon_theta = net((inverted_x, cond, mask, diffusion_steps)) \n",
    "        inverted_x = ( torch.sqrt(Alpha_bar[t+1]) * (inverted_x - torch.sqrt(1-Alpha_bar[t]) * epsilon_theta) ) / torch.sqrt(Alpha_bar[t]) + \\\n",
    "                                                                                                     torch.sqrt(1-Alpha_bar[t+1])* epsilon_theta"
   ]
  },
  {
   "cell_type": "code",
   "execution_count": 15,
   "id": "25cd389b",
   "metadata": {},
   "outputs": [],
   "source": [
    "criterion = nn.MSELoss(reduction=\"mean\")\n",
    "RMSE = torch.sqrt(criterion(x, inverted_x))"
   ]
  },
  {
   "cell_type": "code",
   "execution_count": 16,
   "id": "876c45a5",
   "metadata": {},
   "outputs": [],
   "source": [
    "recove = inverted_x\n",
    "with torch.no_grad():        \n",
    "    for t in range(T-1, 0, -1):                       \n",
    "        diffusion_steps = (t * torch.ones((1, 1))).cuda()          \n",
    "        epsilon_theta = net((recove, cond, mask, diffusion_steps))  \n",
    "        recove = ( torch.sqrt(Alpha_bar[t-1]) * (recove - torch.sqrt(1-Alpha_bar[t]) * epsilon_theta) ) / torch.sqrt(Alpha_bar[t]) + \\\n",
    "                                                                                              torch.sqrt(1-Alpha_bar[t-1])* epsilon_theta"
   ]
  },
  {
   "cell_type": "code",
   "execution_count": 17,
   "id": "1768514e",
   "metadata": {},
   "outputs": [
    {
     "name": "stdout",
     "output_type": "stream",
     "text": [
      "tensor(0.0026, device='cuda:0')\n"
     ]
    }
   ],
   "source": [
    "criterion = nn.MSELoss(reduction=\"mean\")\n",
    "RMSE = torch.sqrt(criterion(x, recove))\n",
    "print(RMSE)"
   ]
  },
  {
   "cell_type": "code",
   "execution_count": 18,
   "id": "5724e41f",
   "metadata": {},
   "outputs": [
    {
     "data": {
      "text/plain": [
       "[<matplotlib.lines.Line2D at 0x1b0e800a2b0>,\n",
       " <matplotlib.lines.Line2D at 0x1b0e800a310>,\n",
       " <matplotlib.lines.Line2D at 0x1b0e800a430>,\n",
       " <matplotlib.lines.Line2D at 0x1b0e800a550>,\n",
       " <matplotlib.lines.Line2D at 0x1b0e800a670>,\n",
       " <matplotlib.lines.Line2D at 0x1b0e800a790>]"
      ]
     },
     "execution_count": 18,
     "metadata": {},
     "output_type": "execute_result"
    },
    {
     "data": {
      "image/png": "[encoded data removed]",
      "text/plain": [
       "<Figure size 700x700 with 4 Axes>"
      ]
     },
     "metadata": {},
     "output_type": "display_data"
    }
   ],
   "source": [
    "x_plot = x.permute(0, 2, 1).cpu().numpy()\n",
    "recove_plot = recove.permute(0, 2, 1).cpu().numpy()\n",
    "inverted_plot = inverted_x.permute(0, 2, 1).cpu().numpy()\n",
    "\n",
    "\n",
    "fig = plt.figure(figsize=(7,7))\n",
    "\n",
    "plt.subplot(3,2,1)\n",
    "plt.plot(x_plot[0][:,3])       \n",
    "plt.subplot(3,2,2)\n",
    "plt.plot(recove_plot[0][:,3])      \n",
    "plt.subplot(3,2,3)\n",
    "plt.plot(recove_plot[0][:,:])  \n",
    "plt.subplot(3,2,4)\n",
    "plt.plot(recove_plot[0][:,:]) \n",
    "# plt.subplot(3,2,5)\n",
    "# plt.plot(inverted_plot[0][:,:]) "
   ]
  },
  {
   "cell_type": "code",
   "execution_count": 9,
   "id": "edac8068",
   "metadata": {},
   "outputs": [],
   "source": []
  }
 ],
 "metadata": {
  "kernelspec": {
   "display_name": "Python 3 (ipykernel)",
   "language": "python",
   "name": "python3"
  },
  "language_info": {
   "codemirror_mode": {
    "name": "ipython",
    "version": 3
   },
   "file_extension": ".py",
   "mimetype": "text/x-python",
   "name": "python",
   "nbconvert_exporter": "python",
   "pygments_lexer": "ipython3",
   "version": "3.9.13"
  }
 },
 "nbformat": 4,
 "nbformat_minor": 5
}
