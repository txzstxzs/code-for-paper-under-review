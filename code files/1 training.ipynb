{
 "cells": [
  {
   "cell_type": "code",
   "execution_count": 1,
   "id": "cdd0540a",
   "metadata": {},
   "outputs": [
    {
     "name": "stderr",
     "output_type": "stream",
     "text": [
      "CUDA extension for cauchy multiplication not found. Install by going to extensions/cauchy/ and running `python setup.py install`. This should speed up end-to-end training by 10-50%\n",
      "Falling back on slow Cauchy kernel. Install at least one of pykeops or the CUDA extension for efficiency.\n"
     ]
    }
   ],
   "source": [
    "import os\n",
    "import argparse\n",
    "import json\n",
    "import numpy as np\n",
    "import torch\n",
    "import torch.nn as nn\n",
    "\n",
    "from sklearn.manifold import TSNE\n",
    "from sklearn.decomposition import PCA\n",
    "import matplotlib.pyplot as plt\n",
    "import umap                        \n",
    "\n",
    "from utils.util import find_max_epoch, print_size, training_loss, calc_diffusion_hyperparams\n",
    "from utils.util import get_mask_mnr, get_mask_bm, get_mask_rm\n",
    "\n",
    "from imputers.DiffWaveImputer import DiffWaveImputer\n",
    "from imputers.SSSDSAImputer import SSSDSAImputer\n",
    "from imputers.SSSDS4Imputer import SSSDS4Imputer\n"
   ]
  },
  {
   "cell_type": "code",
   "execution_count": 3,
   "id": "7868e9a6",
   "metadata": {},
   "outputs": [],
   "source": [
    "parser = argparse.ArgumentParser()\n",
    "parser.add_argument('-c', '--config', type=str, default='./config/config_SSSDS4-sp500.json')  \n",
    "# parser.add_argument('-c', '--config', type=str, default='./config/config_DiffWave-sp500.json') \n",
    "                                                                                                                                                                                                                               \n",
    "args = parser.parse_args(args=[])\n",
    "\n",
    "with open(args.config) as f:\n",
    "    data = f.read()\n",
    "\n",
    "config = json.loads(data)"
   ]
  },
  {
   "cell_type": "code",
   "execution_count": 4,
   "id": "1401d414",
   "metadata": {},
   "outputs": [],
   "source": [
    "train_config = config[\"train_config\"]  # training parameters\n",
    "\n",
    "global trainset_config\n",
    "trainset_config = config[\"trainset_config\"]  # to load trainset\n",
    "\n",
    "global diffusion_config\n",
    "diffusion_config = config[\"diffusion_config\"]  # basic hyperparameters\n",
    "\n",
    "global diffusion_hyperparams\n",
    "diffusion_hyperparams = calc_diffusion_hyperparams(\n",
    "                      **diffusion_config)  # dictionary of all diffusion hyperparameters\n",
    "\n",
    "global model_config\n",
    "\n",
    "if train_config['use_model'] == 0:\n",
    "    model_config = config['wavenet_config']\n",
    "elif train_config['use_model'] == 1:\n",
    "    model_config = config['sashimi_config']\n",
    "elif train_config['use_model'] == 2:\n",
    "    model_config = config['wavenet_config']\n",
    "       \n",
    "model_config['num_res_layers']=18           "
   ]
  },
  {
   "cell_type": "code",
   "execution_count": 5,
   "id": "f8baedfd",
   "metadata": {},
   "outputs": [],
   "source": [
    "output_directory = './results/mujoco/90'\n",
    "ckpt_iter = 'max'\n",
    "n_iters = 10000\n",
    "iters_per_ckpt = 100\n",
    "iters_per_logging = 100\n",
    "# batch_size_per_gpu              \n",
    "learning_rate = 0.0002\n",
    "use_model = 2\n",
    "only_generate_missing = 1       \n",
    "masking = 'rm'               \n",
    "missing_k = 20"
   ]
  },
  {
   "cell_type": "code",
   "execution_count": 6,
   "id": "02876e40",
   "metadata": {},
   "outputs": [
    {
     "name": "stdout",
     "output_type": "stream",
     "text": [
      "output directory ./results/mujoco/90\\T200_beta00.0001_betaT0.02\n",
      "SSSDS4Imputer Parameters: 7.547142M\n"
     ]
    }
   ],
   "source": [
    "local_path = \"T{}_beta0{}_betaT{}\".format(diffusion_config[\"T\"],\n",
    "                                              diffusion_config[\"beta_0\"],\n",
    "                                              diffusion_config[\"beta_T\"])\n",
    "\n",
    "output_directory = os.path.join(output_directory, local_path)\n",
    "if not os.path.isdir(output_directory):\n",
    "    os.makedirs(output_directory)\n",
    "    os.chmod(output_directory, 0o775)               \n",
    "print(\"output directory\", output_directory, flush=True)\n",
    "\n",
    "# map diffusion hyperparameters to gpu\n",
    "for key in diffusion_hyperparams:\n",
    "    if key != \"T\":\n",
    "        diffusion_hyperparams[key] = diffusion_hyperparams[key].cuda()\n",
    "        \n",
    "        \n",
    "# predefine model\n",
    "if use_model == 0:\n",
    "    net = DiffWaveImputer(**model_config).cuda()\n",
    "elif use_model == 1:\n",
    "    net = SSSDSAImputer(**model_config).cuda()\n",
    "elif use_model == 2:\n",
    "    net = SSSDS4Imputer(**model_config).cuda()    \n",
    "else:\n",
    "    print('Model chosen not available.')\n",
    "    \n",
    "print_size(net)\n",
    "optimizer = torch.optim.Adam(net.parameters(), lr=learning_rate)"
   ]
  },
  {
   "cell_type": "code",
   "execution_count": 7,
   "id": "cfa84e8a",
   "metadata": {},
   "outputs": [
    {
     "name": "stdout",
     "output_type": "stream",
     "text": [
      "(5775, 30, 6)\n"
     ]
    }
   ],
   "source": [
    "training_data = np.load(trainset_config['train_data_path'])\n",
    "np.random.shuffle(training_data)\n",
    "print(training_data.shape)"
   ]
  },
  {
   "cell_type": "code",
   "execution_count": 8,
   "id": "c743381e",
   "metadata": {},
   "outputs": [
    {
     "name": "stdout",
     "output_type": "stream",
     "text": [
      "55 (105, 30, 6)\n",
      "torch.Size([55, 105, 30, 6])\n"
     ]
    }
   ],
   "source": [
    "training_data = np.split(training_data, 55, 0)      \n",
    "print(len(training_data), training_data[0].shape)\n",
    "\n",
    "training_data = np.array(training_data)\n",
    "training_data = torch.from_numpy(training_data).float().cuda()\n",
    "print(training_data.shape)\n"
   ]
  },
  {
   "cell_type": "code",
   "execution_count": null,
   "id": "702b7aa6",
   "metadata": {},
   "outputs": [],
   "source": [
    "missing_k = 20                    \n",
    "iters = 0\n",
    "loss_list=[]\n",
    "\n",
    "while iters < n_iters + 1:\n",
    "\n",
    "    for batch in training_data:             \n",
    "        transposed_mask = get_mask_rm(batch[0], missing_k)     \n",
    "        mask = transposed_mask.permute(1, 0)    \n",
    "        mask = mask.repeat(batch.size()[0], 1, 1).float().cuda()  \n",
    "        loss_mask = ~mask.bool()        \n",
    "        batch = batch.permute(0, 2, 1)   \n",
    "        optimizer.zero_grad()\n",
    "        X = batch, batch, mask, loss_mask    \n",
    "        loss = training_loss(net, nn.MSELoss(), X, diffusion_hyperparams,\n",
    "                             only_generate_missing=only_generate_missing)\n",
    "\n",
    "        loss.backward()\n",
    "        optimizer.step()\n",
    "           \n",
    "        if iters % iters_per_logging == 0:\n",
    "                print(\"iteration: {} \\tloss: {}\".format(iters, loss.item()))\n",
    "                \n",
    "        loss_list.append(loss.item())\n",
    "        \n",
    "        iters += 1\n",
    "  "
   ]
  },
  {
   "cell_type": "code",
   "execution_count": 11,
   "id": "d74fb4f3",
   "metadata": {},
   "outputs": [],
   "source": [
    "torch.save( net.state_dict(),\"./sp500_S4_iter_10000.pth\" )"
   ]
  },
  {
   "cell_type": "code",
   "execution_count": null,
   "id": "374614ba",
   "metadata": {},
   "outputs": [],
   "source": []
  },
  {
   "cell_type": "code",
   "execution_count": null,
   "id": "09a2bba1",
   "metadata": {},
   "outputs": [],
   "source": []
  },
  {
   "cell_type": "code",
   "execution_count": null,
   "id": "6789c155",
   "metadata": {},
   "outputs": [],
   "source": []
  },
  {
   "cell_type": "code",
   "execution_count": null,
   "id": "a1658259",
   "metadata": {},
   "outputs": [],
   "source": []
  }
 ],
 "metadata": {
  "kernelspec": {
   "display_name": "Python 3 (ipykernel)",
   "language": "python",
   "name": "python3"
  },
  "language_info": {
   "codemirror_mode": {
    "name": "ipython",
    "version": 3
   },
   "file_extension": ".py",
   "mimetype": "text/x-python",
   "name": "python",
   "nbconvert_exporter": "python",
   "pygments_lexer": "ipython3",
   "version": "3.9.13"
  }
 },
 "nbformat": 4,
 "nbformat_minor": 5
}
