{
 "cells": [
  {
   "cell_type": "code",
   "execution_count": 6,
   "id": "66f84bcc",
   "metadata": {},
   "outputs": [],
   "source": [
    "import numpy as np\n",
    "from sklearn.preprocessing import StandardScaler\n",
    "from gluonts.dataset.repository.datasets import get_dataset\n",
    "from gluonts.dataset.multivariate_grouper import MultivariateGrouper"
   ]
  },
  {
   "cell_type": "markdown",
   "id": "f2369ebf",
   "metadata": {},
   "source": [
    "# Solar"
   ]
  },
  {
   "cell_type": "code",
   "execution_count": 11,
   "id": "7ba5146f",
   "metadata": {},
   "outputs": [
    {
     "ename": "OSError",
     "evalue": "no valid file found in C:\\Users\\PC123\\.mxnet\\gluon-ts\\datasets\\solar-energy\\train",
     "output_type": "error",
     "traceback": [
      "\u001b[1;31m---------------------------------------------------------------------------\u001b[0m",
      "\u001b[1;31mOSError\u001b[0m                                   Traceback (most recent call last)",
      "Cell \u001b[1;32mIn[11], line 1\u001b[0m\n\u001b[1;32m----> 1\u001b[0m dataset \u001b[38;5;241m=\u001b[39m \u001b[43mget_dataset\u001b[49m\u001b[43m(\u001b[49m\u001b[38;5;124;43m\"\u001b[39;49m\u001b[38;5;124;43msolar-energy\u001b[39;49m\u001b[38;5;124;43m\"\u001b[39;49m\u001b[43m,\u001b[49m\u001b[43m \u001b[49m\u001b[43mregenerate\u001b[49m\u001b[38;5;241;43m=\u001b[39;49m\u001b[38;5;28;43;01mFalse\u001b[39;49;00m\u001b[43m)\u001b[49m\n\u001b[0;32m      3\u001b[0m train_grouper \u001b[38;5;241m=\u001b[39m MultivariateGrouper(max_target_dim\u001b[38;5;241m=\u001b[39m\u001b[38;5;28mmin\u001b[39m(\u001b[38;5;241m2000\u001b[39m, \u001b[38;5;28mint\u001b[39m(dataset\u001b[38;5;241m.\u001b[39mmetadata\u001b[38;5;241m.\u001b[39mfeat_static_cat[\u001b[38;5;241m0\u001b[39m]\u001b[38;5;241m.\u001b[39mcardinality)))\n\u001b[0;32m      5\u001b[0m test_grouper \u001b[38;5;241m=\u001b[39m MultivariateGrouper(num_test_dates\u001b[38;5;241m=\u001b[39m\u001b[38;5;28mint\u001b[39m(\u001b[38;5;28mlen\u001b[39m(dataset\u001b[38;5;241m.\u001b[39mtest)\u001b[38;5;241m/\u001b[39m\u001b[38;5;28mlen\u001b[39m(dataset\u001b[38;5;241m.\u001b[39mtrain)),\n\u001b[0;32m      6\u001b[0m                                    max_target_dim\u001b[38;5;241m=\u001b[39m\u001b[38;5;28mmin\u001b[39m(\u001b[38;5;241m2000\u001b[39m, \u001b[38;5;28mint\u001b[39m(dataset\u001b[38;5;241m.\u001b[39mmetadata\u001b[38;5;241m.\u001b[39mfeat_static_cat[\u001b[38;5;241m0\u001b[39m]\u001b[38;5;241m.\u001b[39mcardinality)))\n",
      "File \u001b[1;32m~\\anaconda3\\lib\\site-packages\\gluonts\\dataset\\repository\\datasets.py:327\u001b[0m, in \u001b[0;36mget_dataset\u001b[1;34m(dataset_name, path, regenerate, prediction_length)\u001b[0m\n\u001b[0;32m    286\u001b[0m \u001b[38;5;250m\u001b[39m\u001b[38;5;124;03m\"\"\"\u001b[39;00m\n\u001b[0;32m    287\u001b[0m \u001b[38;5;124;03mGet a repository dataset.\u001b[39;00m\n\u001b[0;32m    288\u001b[0m \n\u001b[1;32m   (...)\u001b[0m\n\u001b[0;32m    321\u001b[0m \u001b[38;5;124;03m    Dataset obtained by either downloading or reloading from local file.\u001b[39;00m\n\u001b[0;32m    322\u001b[0m \u001b[38;5;124;03m\"\"\"\u001b[39;00m\n\u001b[0;32m    323\u001b[0m dataset_path \u001b[38;5;241m=\u001b[39m materialize_dataset(\n\u001b[0;32m    324\u001b[0m     dataset_name, path, regenerate, prediction_length\n\u001b[0;32m    325\u001b[0m )\n\u001b[1;32m--> 327\u001b[0m \u001b[38;5;28;01mreturn\u001b[39;00m \u001b[43mload_datasets\u001b[49m\u001b[43m(\u001b[49m\n\u001b[0;32m    328\u001b[0m \u001b[43m    \u001b[49m\u001b[43mmetadata\u001b[49m\u001b[38;5;241;43m=\u001b[39;49m\u001b[43mdataset_path\u001b[49m\u001b[43m,\u001b[49m\n\u001b[0;32m    329\u001b[0m \u001b[43m    \u001b[49m\u001b[43mtrain\u001b[49m\u001b[38;5;241;43m=\u001b[39;49m\u001b[43mdataset_path\u001b[49m\u001b[43m \u001b[49m\u001b[38;5;241;43m/\u001b[39;49m\u001b[43m \u001b[49m\u001b[38;5;124;43m\"\u001b[39;49m\u001b[38;5;124;43mtrain\u001b[39;49m\u001b[38;5;124;43m\"\u001b[39;49m\u001b[43m,\u001b[49m\n\u001b[0;32m    330\u001b[0m \u001b[43m    \u001b[49m\u001b[43mtest\u001b[49m\u001b[38;5;241;43m=\u001b[39;49m\u001b[43mdataset_path\u001b[49m\u001b[43m \u001b[49m\u001b[38;5;241;43m/\u001b[39;49m\u001b[43m \u001b[49m\u001b[38;5;124;43m\"\u001b[39;49m\u001b[38;5;124;43mtest\u001b[39;49m\u001b[38;5;124;43m\"\u001b[39;49m\u001b[43m,\u001b[49m\n\u001b[0;32m    331\u001b[0m \u001b[43m\u001b[49m\u001b[43m)\u001b[49m\n",
      "File \u001b[1;32m~\\anaconda3\\lib\\site-packages\\gluonts\\dataset\\common.py:493\u001b[0m, in \u001b[0;36mload_datasets\u001b[1;34m(metadata, train, test, one_dim_target, cache)\u001b[0m\n\u001b[0;32m    471\u001b[0m \u001b[38;5;250m\u001b[39m\u001b[38;5;124;03m\"\"\"\u001b[39;00m\n\u001b[0;32m    472\u001b[0m \u001b[38;5;124;03mLoads a dataset given metadata, train and test path.\u001b[39;00m\n\u001b[0;32m    473\u001b[0m \n\u001b[1;32m   (...)\u001b[0m\n\u001b[0;32m    490\u001b[0m \u001b[38;5;124;03m    An object collecting metadata, training data, test data.\u001b[39;00m\n\u001b[0;32m    491\u001b[0m \u001b[38;5;124;03m\"\"\"\u001b[39;00m\n\u001b[0;32m    492\u001b[0m meta \u001b[38;5;241m=\u001b[39m MetaData\u001b[38;5;241m.\u001b[39mparse_file(Path(metadata) \u001b[38;5;241m/\u001b[39m \u001b[38;5;124m\"\u001b[39m\u001b[38;5;124mmetadata.json\u001b[39m\u001b[38;5;124m\"\u001b[39m)\n\u001b[1;32m--> 493\u001b[0m train_ds \u001b[38;5;241m=\u001b[39m \u001b[43mFileDataset\u001b[49m\u001b[43m(\u001b[49m\n\u001b[0;32m    494\u001b[0m \u001b[43m    \u001b[49m\u001b[43mpath\u001b[49m\u001b[38;5;241;43m=\u001b[39;49m\u001b[43mtrain\u001b[49m\u001b[43m,\u001b[49m\u001b[43m \u001b[49m\u001b[43mfreq\u001b[49m\u001b[38;5;241;43m=\u001b[39;49m\u001b[43mmeta\u001b[49m\u001b[38;5;241;43m.\u001b[39;49m\u001b[43mfreq\u001b[49m\u001b[43m,\u001b[49m\u001b[43m \u001b[49m\u001b[43mone_dim_target\u001b[49m\u001b[38;5;241;43m=\u001b[39;49m\u001b[43mone_dim_target\u001b[49m\u001b[43m,\u001b[49m\u001b[43m \u001b[49m\u001b[43mcache\u001b[49m\u001b[38;5;241;43m=\u001b[39;49m\u001b[43mcache\u001b[49m\n\u001b[0;32m    495\u001b[0m \u001b[43m\u001b[49m\u001b[43m)\u001b[49m\n\u001b[0;32m    496\u001b[0m test_ds \u001b[38;5;241m=\u001b[39m (\n\u001b[0;32m    497\u001b[0m     FileDataset(\n\u001b[0;32m    498\u001b[0m         path\u001b[38;5;241m=\u001b[39mtest,\n\u001b[1;32m   (...)\u001b[0m\n\u001b[0;32m    504\u001b[0m     \u001b[38;5;28;01melse\u001b[39;00m \u001b[38;5;28;01mNone\u001b[39;00m\n\u001b[0;32m    505\u001b[0m )\n\u001b[0;32m    507\u001b[0m \u001b[38;5;28;01mreturn\u001b[39;00m TrainDatasets(metadata\u001b[38;5;241m=\u001b[39mmeta, train\u001b[38;5;241m=\u001b[39mtrain_ds, test\u001b[38;5;241m=\u001b[39mtest_ds)\n",
      "File \u001b[1;32m~\\anaconda3\\lib\\site-packages\\gluonts\\dataset\\common.py:174\u001b[0m, in \u001b[0;36mFileDataset.__init__\u001b[1;34m(self, path, freq, one_dim_target, cache)\u001b[0m\n\u001b[0;32m    171\u001b[0m \u001b[38;5;28mself\u001b[39m\u001b[38;5;241m.\u001b[39m_len_per_file \u001b[38;5;241m=\u001b[39m \u001b[38;5;28;01mNone\u001b[39;00m\n\u001b[0;32m    173\u001b[0m \u001b[38;5;28;01mif\u001b[39;00m \u001b[38;5;129;01mnot\u001b[39;00m \u001b[38;5;28mself\u001b[39m\u001b[38;5;241m.\u001b[39mfiles():\n\u001b[1;32m--> 174\u001b[0m     \u001b[38;5;28;01mraise\u001b[39;00m \u001b[38;5;167;01mOSError\u001b[39;00m(\u001b[38;5;124mf\u001b[39m\u001b[38;5;124m\"\u001b[39m\u001b[38;5;124mno valid file found in \u001b[39m\u001b[38;5;132;01m{\u001b[39;00mpath\u001b[38;5;132;01m}\u001b[39;00m\u001b[38;5;124m\"\u001b[39m)\n\u001b[0;32m    176\u001b[0m \u001b[38;5;66;03m# necessary, in order to preserve the cached datasets, in case caching was enabled\u001b[39;00m\n\u001b[0;32m    177\u001b[0m \u001b[38;5;28mself\u001b[39m\u001b[38;5;241m.\u001b[39m_json_line_files \u001b[38;5;241m=\u001b[39m [\n\u001b[0;32m    178\u001b[0m     jsonl\u001b[38;5;241m.\u001b[39mJsonLinesFile(path\u001b[38;5;241m=\u001b[39mpath, cache\u001b[38;5;241m=\u001b[39mcache)\n\u001b[0;32m    179\u001b[0m     \u001b[38;5;28;01mfor\u001b[39;00m path \u001b[38;5;129;01min\u001b[39;00m \u001b[38;5;28mself\u001b[39m\u001b[38;5;241m.\u001b[39mfiles()\n\u001b[0;32m    180\u001b[0m ]\n",
      "\u001b[1;31mOSError\u001b[0m: no valid file found in C:\\Users\\PC123\\.mxnet\\gluon-ts\\datasets\\solar-energy\\train"
     ]
    }
   ],
   "source": [
    "dataset = get_dataset(\"solar-energy\", regenerate=False)\n",
    "\n",
    "train_grouper = MultivariateGrouper(max_target_dim=min(2000, int(dataset.metadata.feat_static_cat[0].cardinality)))\n",
    "\n",
    "test_grouper = MultivariateGrouper(num_test_dates=int(len(dataset.test)/len(dataset.train)),\n",
    "                                   max_target_dim=min(2000, int(dataset.metadata.feat_static_cat[0].cardinality)))\n",
    "\n",
    "\n",
    "train = [i for i in train_grouper(dataset.train)]\n",
    "test = [i for i in test_grouper(dataset.test)]\n",
    "train = train[0]['target'].transpose(1,0)\n",
    "test = test[0]['target'].transpose(1,0)\n",
    "data = np.concatenate([train, test], axis=0)\n",
    "data = data[0:14016, 9:]\n",
    "data = np.split(data, 73, 0)\n",
    "data = np.array(data)\n",
    "train = data[0:65]\n",
    "test = data[65:]\n",
    "\n",
    "solar_scaler = StandardScaler()\n",
    "train_scaled = solar_scaler.fit_transform(train.reshape(-1, train.shape[-1])).reshape(train.shape)\n",
    "test_scaled = solar_scaler.transform(test.reshape(-1, test.shape[-1])).reshape(test.shape)\n",
    "\n",
    "train_scaled_batches = np.split(train_scaled, 2, 2)\n",
    "train_scaled_batches = np.array(train_scaled_batches)\n",
    "\n",
    "test_scaled_batches = np.split(test_scaled, 2, 2)\n",
    "test_scaled_batches = np.array(test_scaled_batches)\n",
    "\n",
    "train_scaled_batches.shape, test_scaled_batches.shape"
   ]
  },
  {
   "cell_type": "code",
   "execution_count": null,
   "id": "074a6b6e",
   "metadata": {},
   "outputs": [],
   "source": []
  }
 ],
 "metadata": {
  "kernelspec": {
   "display_name": "Python 3 (ipykernel)",
   "language": "python",
   "name": "python3"
  },
  "language_info": {
   "codemirror_mode": {
    "name": "ipython",
    "version": 3
   },
   "file_extension": ".py",
   "mimetype": "text/x-python",
   "name": "python",
   "nbconvert_exporter": "python",
   "pygments_lexer": "ipython3",
   "version": "3.8.8"
  }
 },
 "nbformat": 4,
 "nbformat_minor": 5
}
